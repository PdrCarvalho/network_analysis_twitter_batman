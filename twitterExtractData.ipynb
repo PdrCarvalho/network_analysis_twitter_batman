{
  "nbformat": 4,
  "nbformat_minor": 0,
  "metadata": {
    "colab": {
      "name": "twitterExtractData.ipynb",
      "provenance": []
    },
    "kernelspec": {
      "name": "python3",
      "display_name": "Python 3"
    },
    "language_info": {
      "name": "python"
    }
  },
  "cells": [
    {
      "cell_type": "code",
      "execution_count": null,
      "metadata": {
        "id": "OPKZeQAaT3pg"
      },
      "outputs": [],
      "source": [
        "import requests\n",
        "import json\n",
        "import time"
      ]
    },
    {
      "cell_type": "code",
      "source": [
        "def create_headers(bearer_token):\n",
        "    headers = {\"Authorization\": \"Bearer {}\".format(bearer_token)}\n",
        "    return headers\n",
        "\n",
        "def create_url(keyword, max_results = 100):\n",
        "    search_url = \"https://api.twitter.com/2/tweets/search/recent\" \n",
        "    query_params = {'query': keyword,\n",
        "                    'max_results': max_results,\n",
        "                    'expansions': 'author_id,in_reply_to_user_id,geo.place_id',\n",
        "                    'tweet.fields': 'id,text,author_id,in_reply_to_user_id,geo,conversation_id,created_at,lang,public_metrics,referenced_tweets,reply_settings,source',\n",
        "                    'user.fields': 'id,name,username,created_at,description,public_metrics,verified',\n",
        "                    'place.fields': 'full_name,id,country,country_code,geo,name,place_type',\n",
        "                    'next_token': {},\n",
        "                    #'start_time':'2022-02-16T00:00:00Z'\n",
        "                    }\n",
        "    return (search_url, query_params)\n",
        "\n",
        "def get_data(url, params, headers, next_token = None):\n",
        "    params['next_token'] = next_token \n",
        "    response = requests.request(\"GET\", url, headers = headers, params = params)\n",
        "    if response.status_code != 200:\n",
        "        raise Exception(response.status_code, response.text)\n",
        "    return response.json()"
      ],
      "metadata": {
        "id": "b3AbTDjhUhnh"
      },
      "execution_count": null,
      "outputs": []
    },
    {
      "cell_type": "code",
      "source": [
        "twitter_database = []\n",
        "bearer_token = 'yours_bearer_token'\n",
        "headers = create_headers(bearer_token)\n",
        "keyword = \"#thebatman lang:pt\"\n",
        "max_results = 100\n",
        "next_token = None"
      ],
      "metadata": {
        "id": "o5XdgaClVAsu"
      },
      "execution_count": null,
      "outputs": []
    },
    {
      "cell_type": "code",
      "source": [
        "while(True):\n",
        "  for i in range(180):\n",
        "    try:\n",
        "      url = create_url(keyword, max_results=max_results)\n",
        "      json_response = get_data(url[0], url[1], headers,next_token=next_token) \n",
        "      twitter_database = [*twitter_database,*json_response['data']]\n",
        "      if 'next_token' in json_response['meta'].keys():\n",
        "        next_token = json_response['meta']['next_token']\n",
        "      else:\n",
        "        next_token = None\n",
        "        break\n",
        "    except:\n",
        "      break\n",
        "  time.sleep(901) \n",
        "  "
      ],
      "metadata": {
        "id": "3mSDdupXU8P4"
      },
      "execution_count": null,
      "outputs": []
    },
    {
      "cell_type": "code",
      "source": [
        "with open('data_batman.json', 'w') as f:\n",
        "    json.dump(twitter_database, f)"
      ],
      "metadata": {
        "id": "0yFz5PROVt3f"
      },
      "execution_count": null,
      "outputs": []
    }
  ]
}